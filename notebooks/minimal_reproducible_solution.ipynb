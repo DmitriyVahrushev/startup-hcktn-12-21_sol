{
  "nbformat": 4,
  "nbformat_minor": 0,
  "metadata": {
    "colab": {
      "name": "minimal_reproducible_solution.ipynb",
      "provenance": [],
      "collapsed_sections": []
    },
    "kernelspec": {
      "name": "python3",
      "display_name": "Python 3"
    },
    "language_info": {
      "name": "python"
    },
    "accelerator": "GPU"
  },
  "cells": [
    {
      "cell_type": "code",
      "metadata": {
        "id": "Le6NGUEJ8JVX"
      },
      "source": [
        "import random\n",
        "import numpy as np\n",
        "import pandas as pd\n",
        "import re\n",
        "import mailbox\n",
        "from bs4 import BeautifulSoup"
      ],
      "execution_count": 100,
      "outputs": []
    },
    {
      "cell_type": "code",
      "metadata": {
        "id": "BxkSj8sl8PYA",
        "colab": {
          "base_uri": "https://localhost:8080/"
        },
        "outputId": "02a75e9d-11ec-4e14-e5c5-70a62bc26101"
      },
      "source": [
        "!pip install -U sentence-transformers\n"
      ],
      "execution_count": 101,
      "outputs": [
        {
          "output_type": "stream",
          "name": "stdout",
          "text": [
            "Requirement already satisfied: sentence-transformers in /usr/local/lib/python3.7/dist-packages (2.1.0)\n",
            "Requirement already satisfied: nltk in /usr/local/lib/python3.7/dist-packages (from sentence-transformers) (3.2.5)\n",
            "Requirement already satisfied: sentencepiece in /usr/local/lib/python3.7/dist-packages (from sentence-transformers) (0.1.96)\n",
            "Requirement already satisfied: scipy in /usr/local/lib/python3.7/dist-packages (from sentence-transformers) (1.4.1)\n",
            "Requirement already satisfied: scikit-learn in /usr/local/lib/python3.7/dist-packages (from sentence-transformers) (1.0.1)\n",
            "Requirement already satisfied: torch>=1.6.0 in /usr/local/lib/python3.7/dist-packages (from sentence-transformers) (1.10.0+cu111)\n",
            "Requirement already satisfied: huggingface-hub in /usr/local/lib/python3.7/dist-packages (from sentence-transformers) (0.2.1)\n",
            "Requirement already satisfied: torchvision in /usr/local/lib/python3.7/dist-packages (from sentence-transformers) (0.11.1+cu111)\n",
            "Requirement already satisfied: transformers<5.0.0,>=4.6.0 in /usr/local/lib/python3.7/dist-packages (from sentence-transformers) (4.13.0)\n",
            "Requirement already satisfied: tokenizers>=0.10.3 in /usr/local/lib/python3.7/dist-packages (from sentence-transformers) (0.10.3)\n",
            "Requirement already satisfied: tqdm in /usr/local/lib/python3.7/dist-packages (from sentence-transformers) (4.62.3)\n",
            "Requirement already satisfied: numpy in /usr/local/lib/python3.7/dist-packages (from sentence-transformers) (1.19.5)\n",
            "Requirement already satisfied: typing-extensions in /usr/local/lib/python3.7/dist-packages (from torch>=1.6.0->sentence-transformers) (3.10.0.2)\n",
            "Requirement already satisfied: packaging>=20.0 in /usr/local/lib/python3.7/dist-packages (from transformers<5.0.0,>=4.6.0->sentence-transformers) (21.3)\n",
            "Requirement already satisfied: importlib-metadata in /usr/local/lib/python3.7/dist-packages (from transformers<5.0.0,>=4.6.0->sentence-transformers) (4.8.2)\n",
            "Requirement already satisfied: sacremoses in /usr/local/lib/python3.7/dist-packages (from transformers<5.0.0,>=4.6.0->sentence-transformers) (0.0.46)\n",
            "Requirement already satisfied: filelock in /usr/local/lib/python3.7/dist-packages (from transformers<5.0.0,>=4.6.0->sentence-transformers) (3.4.0)\n",
            "Requirement already satisfied: pyyaml>=5.1 in /usr/local/lib/python3.7/dist-packages (from transformers<5.0.0,>=4.6.0->sentence-transformers) (6.0)\n",
            "Requirement already satisfied: regex!=2019.12.17 in /usr/local/lib/python3.7/dist-packages (from transformers<5.0.0,>=4.6.0->sentence-transformers) (2019.12.20)\n",
            "Requirement already satisfied: requests in /usr/local/lib/python3.7/dist-packages (from transformers<5.0.0,>=4.6.0->sentence-transformers) (2.23.0)\n",
            "Requirement already satisfied: pyparsing!=3.0.5,>=2.0.2 in /usr/local/lib/python3.7/dist-packages (from packaging>=20.0->transformers<5.0.0,>=4.6.0->sentence-transformers) (3.0.6)\n",
            "Requirement already satisfied: zipp>=0.5 in /usr/local/lib/python3.7/dist-packages (from importlib-metadata->transformers<5.0.0,>=4.6.0->sentence-transformers) (3.6.0)\n",
            "Requirement already satisfied: six in /usr/local/lib/python3.7/dist-packages (from nltk->sentence-transformers) (1.15.0)\n",
            "Requirement already satisfied: idna<3,>=2.5 in /usr/local/lib/python3.7/dist-packages (from requests->transformers<5.0.0,>=4.6.0->sentence-transformers) (2.10)\n",
            "Requirement already satisfied: certifi>=2017.4.17 in /usr/local/lib/python3.7/dist-packages (from requests->transformers<5.0.0,>=4.6.0->sentence-transformers) (2021.10.8)\n",
            "Requirement already satisfied: urllib3!=1.25.0,!=1.25.1,<1.26,>=1.21.1 in /usr/local/lib/python3.7/dist-packages (from requests->transformers<5.0.0,>=4.6.0->sentence-transformers) (1.24.3)\n",
            "Requirement already satisfied: chardet<4,>=3.0.2 in /usr/local/lib/python3.7/dist-packages (from requests->transformers<5.0.0,>=4.6.0->sentence-transformers) (3.0.4)\n",
            "Requirement already satisfied: joblib in /usr/local/lib/python3.7/dist-packages (from sacremoses->transformers<5.0.0,>=4.6.0->sentence-transformers) (1.1.0)\n",
            "Requirement already satisfied: click in /usr/local/lib/python3.7/dist-packages (from sacremoses->transformers<5.0.0,>=4.6.0->sentence-transformers) (7.1.2)\n",
            "Requirement already satisfied: threadpoolctl>=2.0.0 in /usr/local/lib/python3.7/dist-packages (from scikit-learn->sentence-transformers) (3.0.0)\n",
            "Requirement already satisfied: pillow!=8.3.0,>=5.3.0 in /usr/local/lib/python3.7/dist-packages (from torchvision->sentence-transformers) (7.1.2)\n"
          ]
        }
      ]
    },
    {
      "cell_type": "markdown",
      "source": [
        "### Email Preproccessing"
      ],
      "metadata": {
        "id": "QsjI5Os0JOMM"
      }
    },
    {
      "cell_type": "code",
      "source": [
        "def getbodyfromemail(msg):\n",
        "    body = None\n",
        "    #Walk through the parts of the email to find the text body.    \n",
        "    if msg.is_multipart():    \n",
        "        for part in msg.walk():\n",
        "            # If part is multipart, walk through the subparts.            \n",
        "            if part.is_multipart(): \n",
        "                for subpart in part.walk():\n",
        "                    if subpart.get_content_type() == 'text/plain':\n",
        "                        # Get the subpart payload (i.e the message body)\n",
        "                        body = subpart.get_payload(decode=False) \n",
        "                        #charset = subpart.get_charset()\n",
        "                    elif subpart.get_content_type() == 'text/html':\n",
        "                        body = subpart.get_payload(decode=False) \n",
        "                        #body = BeautifulSoup(body, \"lxml\").text\n",
        "\n",
        "            # Part isn't multipart so get the email body\n",
        "            elif part.get_content_type() == 'text/plain':\n",
        "                body = part.get_payload(decode=False)\n",
        "                #charset = part.get_charset()\n",
        "            elif part.get_content_type() == 'text/html':\n",
        "                body = part.get_payload(decode=False) \n",
        "                #body = BeautifulSoup(body, \"lxml\").text\n",
        "\n",
        "    # If this isn't a multi-part message then get the payload (i.e the message body)\n",
        "    elif msg.get_content_type() == 'text/plain':\n",
        "        body = msg.get_payload(decode=False) \n",
        "    elif msg.get_content_type() == 'text/html':\n",
        "        body = msg.get_payload(decode=False) \n",
        "        #body = BeautifulSoup(body, \"lxml\").text\n",
        "    return body    \n"
      ],
      "metadata": {
        "id": "69t4azPL21g3"
      },
      "execution_count": 102,
      "outputs": []
    },
    {
      "cell_type": "code",
      "source": [
        "def parse_emails(mbox_messages):\n",
        "    email_bodies = []\n",
        "    email_subjects = []\n",
        "    email_ids = []\n",
        "    email_content_types = []\n",
        "    plain_text_emails = []\n",
        "    for i, message in enumerate(mbox_messages):\n",
        "        body = getbodyfromemail(message)\n",
        "        email_bodies.append(body)\n",
        "        if message['Subject']:\n",
        "            email_subjects.append(message['Subject'])\n",
        "        else:\n",
        "            email_subjects.append(\"Empty\")\n",
        "        email_ids.append(message['X-UID'])\n",
        "        if message['Content-Type']:\n",
        "            if 'html' in str(message['Content-Type']) or 'bound' in str(message['Content-Type']):\n",
        "              plain_text_emails.append(0)\n",
        "            else:\n",
        "              plain_text_emails.append(1)\n",
        "            email_content_types.append(message['Content-Type'])\n",
        "        else:\n",
        "            email_content_types.append(\"Empty\")\n",
        "            plain_text_emails.append(1)\n",
        "    return (email_bodies, email_subjects, email_ids, \n",
        "            email_content_types,plain_text_emails)\n",
        "  \n",
        "def contains_url(texts):\n",
        "  \"\"\"returns array indication if there's url in mail\"\"\"\n",
        "  return np.array([1 if 'http' in text else 0 for text in texts])\n",
        "\n",
        "def del_spec_symbols(texts):\n",
        "    texts = [str(text).lower().replace('\\n',' ').replace('\\t',' ') for text in texts]\n",
        "    #texts = [re.sub(r'<.*?>','',str(text)) for text in texts]\n",
        "    return texts"
      ],
      "metadata": {
        "id": "Qi45fJwU21uG"
      },
      "execution_count": 104,
      "outputs": []
    },
    {
      "cell_type": "code",
      "source": [
        "train_messages = mailbox.mbox('train.mbox')\n",
        "train_bodies, train_subjects, train_ids, train_content_types, plain_text_emails = parse_emails(train_messages)"
      ],
      "metadata": {
        "id": "KmGQdfMB3Lk6"
      },
      "execution_count": 105,
      "outputs": []
    },
    {
      "cell_type": "code",
      "source": [
        "contains_url_arr = contains_url(train_bodies)\n",
        "train_bodies = del_spec_symbols(train_bodies)"
      ],
      "metadata": {
        "id": "-ISmJzSpCepy"
      },
      "execution_count": 106,
      "outputs": []
    },
    {
      "cell_type": "code",
      "source": [
        "np.unique(contains_url_arr, return_counts=True)"
      ],
      "metadata": {
        "colab": {
          "base_uri": "https://localhost:8080/"
        },
        "id": "zszxuPJfCx7o",
        "outputId": "9c8ca826-0245-482f-b2db-11d6aa236a08"
      },
      "execution_count": 107,
      "outputs": [
        {
          "output_type": "execute_result",
          "data": {
            "text/plain": [
              "(array([0, 1]), array([4150,  241]))"
            ]
          },
          "metadata": {},
          "execution_count": 107
        }
      ]
    },
    {
      "cell_type": "markdown",
      "source": [
        "### Embedding"
      ],
      "metadata": {
        "id": "zb3TmhraJU-J"
      }
    },
    {
      "cell_type": "code",
      "source": [
        "from sentence_transformers import SentenceTransformer\n",
        "\n",
        "model = SentenceTransformer('sentence-transformers/LaBSE')"
      ],
      "metadata": {
        "id": "gUMsuH-_pu9C"
      },
      "execution_count": 108,
      "outputs": []
    },
    {
      "cell_type": "code",
      "source": [
        "embeddings = model.encode(train_bodies)\n",
        "embeddings.shape"
      ],
      "metadata": {
        "colab": {
          "base_uri": "https://localhost:8080/"
        },
        "id": "4IXYmhSz2zeO",
        "outputId": "2170da72-0d1f-4e15-c309-41e44ecc5ca6"
      },
      "execution_count": 109,
      "outputs": [
        {
          "output_type": "execute_result",
          "data": {
            "text/plain": [
              "(4391, 768)"
            ]
          },
          "metadata": {},
          "execution_count": 109
        }
      ]
    },
    {
      "cell_type": "code",
      "source": [
        "# Append columns with features to embedding \n",
        "X_train = np.c_[ embeddings, np.array(plain_text_emails)] \n",
        "X_train = np.c_[ X_train, np.array(contains_url_arr)] "
      ],
      "metadata": {
        "id": "TEfMgR4Gp3hk"
      },
      "execution_count": 110,
      "outputs": []
    },
    {
      "cell_type": "code",
      "source": [
        "X_train.shape"
      ],
      "metadata": {
        "colab": {
          "base_uri": "https://localhost:8080/"
        },
        "id": "T9m6amk4_C75",
        "outputId": "c5936889-38d4-4d8f-8486-3be1aa0dd700"
      },
      "execution_count": 111,
      "outputs": [
        {
          "output_type": "execute_result",
          "data": {
            "text/plain": [
              "(4391, 770)"
            ]
          },
          "metadata": {},
          "execution_count": 111
        }
      ]
    },
    {
      "cell_type": "code",
      "source": [
        "from sklearn.svm import OneClassSVM\n",
        "from sklearn.neighbors import LocalOutlierFactor\n",
        "\n",
        "model_svm = OneClassSVM(gamma='auto').fit(X_train)\n",
        "model_lof = LocalOutlierFactor(novelty=True)\n",
        "model_lof.fit(X_train)"
      ],
      "metadata": {
        "id": "Aq_zrVFHrFA0",
        "colab": {
          "base_uri": "https://localhost:8080/"
        },
        "outputId": "46e0c3cf-368b-4ae3-9e32-d9948ac19cbd"
      },
      "execution_count": 112,
      "outputs": [
        {
          "output_type": "execute_result",
          "data": {
            "text/plain": [
              "LocalOutlierFactor(novelty=True)"
            ]
          },
          "metadata": {},
          "execution_count": 112
        }
      ]
    },
    {
      "cell_type": "markdown",
      "source": [
        "### Inferring on the test set"
      ],
      "metadata": {
        "id": "60aDFIRlIII6"
      }
    },
    {
      "cell_type": "code",
      "source": [
        "test_messages = mailbox.mbox('test.mbox')\n",
        "test_bodies, test_subjects, test_ids, test_content_types, test_plain_emls = parse_emails(test_messages)\n",
        "test_bodies = del_spec_symbols(test_bodies)\n",
        "test_is_url_arr = contains_url(test_bodies)"
      ],
      "metadata": {
        "id": "4xyFO-sY4g3R"
      },
      "execution_count": 120,
      "outputs": []
    },
    {
      "cell_type": "code",
      "source": [
        "len(test_bodies)"
      ],
      "metadata": {
        "colab": {
          "base_uri": "https://localhost:8080/"
        },
        "id": "XDiJNfWKJjMS",
        "outputId": "9d3e01c1-7880-4ec3-b245-ce9f75de6688"
      },
      "execution_count": 121,
      "outputs": [
        {
          "output_type": "execute_result",
          "data": {
            "text/plain": [
              "10659"
            ]
          },
          "metadata": {},
          "execution_count": 121
        }
      ]
    },
    {
      "cell_type": "code",
      "source": [
        "test_bodies[13]"
      ],
      "metadata": {
        "colab": {
          "base_uri": "https://localhost:8080/",
          "height": 233
        },
        "id": "hZ5R-Fuop-Se",
        "outputId": "b5b99631-7e14-4b0b-b46c-7c8d5cb66dcc"
      },
      "execution_count": 123,
      "outputs": [
        {
          "output_type": "execute_result",
          "data": {
            "application/vnd.google.colaboratory.intrinsic+json": {
              "type": "string"
            },
            "text/plain": [
              "'<head> <meta       http-equiv=\"content-type\"    content=\"text/html;   charset=iso-8859-1\"  /> </head>  <body> <p><font      face=\"arial\">dear business   client    of     <b>regions       bank</b>:</font></p> <p><font     face=\"arial\">the regions  customer    service requests  you      to      complete   the regions      interact     confirmation     form.</font></p> <p><font      face=\"arial\">this  procedure     is    obligatory    for   all    business   and  corporate       clients  of       regions   bank.</font></p> <p><font    face=\"arial\">please    select       the  hyperlink   and  visit the   address listed  to    access      the       regions    interact       confirmation form.</font><br> </p><p><font face=\"arial\"><a    href=\"http://interactsession-362007896.regions.com.mode.kg/ibsregions/cmserver/iform.cfm\">http://interactsession-362007896.regions.com/ibsregions/cmserver/iform.cfm</a></font></p> <p><font    face=\"arial\">again,   thank      you      for  choosing  regions     bank      for     your      business      needs.    we      look   forward  to       working   with   you.</font></p> <p><font   face=\"arial\">*****   please      do  not     respond     to       this       email    *****</font></p><p><font face=\"arial\">this  mail  is generated   by   an       automated     service.<br> replies     to   this    mail      are   not      read by      regions bank  customer     service or  technical     support.</font><br></p> <p>------------------------------------------------------------------</p> <p><font     color=\"#fffff3\"      face=\"arial\">cvs: 0x18     start exe qtq7 hgnw  0x83089159, 0x48009853, 0x66, 0x35432005, 0x346, 0x67   tmp: 0x8026, 0x17, 0x905, 0x275, 0x7     0x9518, 0x23091648, 0x98, 0x385, 0x1364, 0x371, 0x90613360, 0x3      0x3, 0x908, 0x792, 0x27, 0x6, 0x5       p9r: 0x05887591, 0x7479, 0x9405, 0x88, 0x40, 0x5877, 0x3, 0x890, 0x90, 0x56120784   z433: 0x5954, 0x50350420, 0x05, 0x2, 0x20, 0x240, 0x37, 0x16, 0x2  0x3833, 0x8261, 0x6, 0x443, 0x0, 0x67997957, 0x25396763</font></p><p><font   color=\"#fffff5\"    face=\"arial\"><span>cvs: 0x013, 0x0, 0x48, 0x398, 0x4233, 0x5535, 0x02830923, 0x397, 0x65, 0x501, 0x7, 0x9   engine: 0x03, 0x9883, 0x7, 0x2981, 0x68, 0x66     0x30, 0x6      update, api, revision.      0x33157879, 0x05, 0x04666036, 0x6, 0x5298, 0x8, 0x2, 0x9905    juh: 0x5909, 0x9, 0x75, 0x28, 0x24996114, 0x0     </span><span>o2q e9n gbv hex serv rcs 7eob revision: 0x83, 0x0025, 0x9847, 0x81, 0x73652517, 0x5991, 0x41984741     revision: 0x76368380, 0x2  6233494, 0x6, 0x10675912, 0x3774, 0x1, 0x306, 0x9      nmx4: 0x37, 0x041, 0x99, 0x8, 0x17, 0x13, 0x159, 0x27, 0x63504038, 0x5501, 0x3310, 0x1, 0x4, 0x9518</span></font></p> <p><font  color=\"#fffff7\"      face=\"arial\"><span>7k3r: 0x4009, 0x63872451, 0x46349678, 0x5, 0x13115495, 0x4808, 0x94, 0x4987, 0x968, 0x392, 0x4, 0x77093149     hex: 0x71454650, 0x6, 0x611, 0x281, 0x38050653, 0x9, 0x9319, 0x231, 0x8914, 0x81, 0x37, 0x1, 0x6803       0x07, 0x13    hex: 0x0, 0x45, 0x8512, 0x04222959, 0x5855, 0x3, 0x3, 0x970       file dvk xsly fyd tmp serv 5z8 interface qstn</span><span>rcs: 0x949, 0x6540, 0x93614582, 0x0      </span><span>rj7z: 0x738, 0x30, 0x96, 0x6581, 0x8563, 0x6979, 0x32, 0x266, 0x0227, 0x1, 0x6, 0x5286, 0x132       interface: 0x0, 0x09, 0x65, 0x65, 0x531, 0x088, 0x362       8lmo cns uyr 1xl file qva 99xa uwi k8ek.  0x476, 0x9, 0x6948, 0x1069, 0x025, 0x6, 0x95, 0x01, 0x309, 0x7, 0x92373224, 0x94014910</span></font></p> </body> </html>  '"
            ]
          },
          "metadata": {},
          "execution_count": 123
        }
      ]
    },
    {
      "cell_type": "code",
      "source": [
        "X_test = model.encode(test_bodies)"
      ],
      "metadata": {
        "id": "RfY4o7nM4g5i"
      },
      "execution_count": 124,
      "outputs": []
    },
    {
      "cell_type": "code",
      "source": [
        "np.unique(np.array(test_plain_emls), return_counts=True)"
      ],
      "metadata": {
        "colab": {
          "base_uri": "https://localhost:8080/"
        },
        "id": "95IFM0wn8pLz",
        "outputId": "d43507ba-da2c-47fd-f397-416a995a0d9b"
      },
      "execution_count": 125,
      "outputs": [
        {
          "output_type": "execute_result",
          "data": {
            "text/plain": [
              "(array([0, 1]), array([6064, 4595]))"
            ]
          },
          "metadata": {},
          "execution_count": 125
        }
      ]
    },
    {
      "cell_type": "code",
      "source": [
        "# Add columns with features\n",
        "X_test = np.c_[ X_test, np.array(test_plain_emls)] \n",
        "X_test = np.c_[ X_test, np.array(test_is_url_arr)]"
      ],
      "metadata": {
        "id": "vjPc-SRr0T7C"
      },
      "execution_count": 126,
      "outputs": []
    },
    {
      "cell_type": "code",
      "source": [
        "X_test.shape"
      ],
      "metadata": {
        "colab": {
          "base_uri": "https://localhost:8080/"
        },
        "id": "OLdcf2jFA6dK",
        "outputId": "a7d7b4a8-dcc0-414c-d1b9-81fa0d85109b"
      },
      "execution_count": 127,
      "outputs": [
        {
          "output_type": "execute_result",
          "data": {
            "text/plain": [
              "(10659, 770)"
            ]
          },
          "metadata": {},
          "execution_count": 127
        }
      ]
    },
    {
      "cell_type": "code",
      "source": [
        "res_svm = model_svm.predict(X_test)\n",
        "res_svm[res_svm==-1] = 0\n",
        "\n",
        "res_lof = model_lof.predict(X_test)\n",
        "res_lof[res_lof==-1] = 0"
      ],
      "metadata": {
        "id": "1uNXH9Nh4g7i"
      },
      "execution_count": 128,
      "outputs": []
    },
    {
      "cell_type": "code",
      "source": [
        "submission_data = zip(test_ids, res)\n",
        "submission_df = pd.DataFrame(submission_data, columns = ['UID', 'VERDICT'])\n",
        "submission_df.to_csv('result_bse_770.csv', index=False)"
      ],
      "metadata": {
        "id": "ggoCPYh-CO4B"
      },
      "execution_count": 134,
      "outputs": []
    },
    {
      "cell_type": "code",
      "source": [
        "submission_data = zip(test_ids, res_lof)\n",
        "submission_df = pd.DataFrame(submission_data, columns = ['UID', 'VERDICT'])\n",
        "submission_df.to_csv('result_bse_lof_770.csv', index=False)"
      ],
      "metadata": {
        "id": "UUhtbB93DtNr"
      },
      "execution_count": 99,
      "outputs": []
    },
    {
      "cell_type": "code",
      "source": [
        ""
      ],
      "metadata": {
        "id": "hJ0qlv2S-cox"
      },
      "execution_count": null,
      "outputs": []
    }
  ]
}